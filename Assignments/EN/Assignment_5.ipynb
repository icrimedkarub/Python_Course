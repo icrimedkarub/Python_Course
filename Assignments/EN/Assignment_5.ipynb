{
 "cells": [
  {
   "cell_type": "markdown",
   "metadata": {},
   "source": [
    "<img src=\"https://communications.univie.ac.at/fileadmin/_processed_/csm_Uni_Logo_2016_2f47aacf37.jpg\" \n",
    "     alt=\"Logo Universität Wien\" \n",
    "     width=\"200\"/>\n",
    "\n",
    "# Practical Machine Learning for Natural Language Processing - 2023 SS  \n",
    "\n",
    "### Assigment 1 - Python for Poets  \n",
    "\n",
    "This assigment is an adaptation for Python of the original exercise [\"Unix for Poets\"](https://www.cs.upc.edu/~padro/Unixforpoets.pdf)"
   ]
  },
  {
   "cell_type": "markdown",
   "metadata": {},
   "source": [
    "***"
   ]
  },
  {
   "cell_type": "markdown",
   "metadata": {},
   "source": [
    "### Loading the document"
   ]
  },
  {
   "cell_type": "code",
   "execution_count": 157,
   "metadata": {
    "scrolled": false
   },
   "outputs": [
    {
     "name": "stdout",
     "output_type": "stream",
     "text": [
      "KBR said Friday the global economic downturn so far has\n",
      "had\n",
      "little effect on its business but warned some projects on its books\n",
      "could be in jeopardy if the headwinds persist into next year.\n",
      "\n",
      "\"With the economic outlook remaining uncertain, it is possible\n",
      "that\n",
      "customers may cancel or delay projects that are under way,\" said\n",
      "William\n",
      "Utt, chief executive of the Houston-based engineering and\n",
      "construction\n",
      "giant and government contractor.\n",
      "\n",
      "He did not predict how much of the company's $15.3billion in\n",
      "fu\n"
     ]
    }
   ],
   "source": [
    "with open(\"../../Data/txt/nyt_200811.txt\", \"r\") as f:\n",
    "    text = f.read()\n",
    "\n",
    "print(text[0:500])"
   ]
  },
  {
   "cell_type": "markdown",
   "metadata": {},
   "source": [
    "***"
   ]
  },
  {
   "cell_type": "markdown",
   "metadata": {},
   "source": [
    "### You will solve the following exercises using **Pure Python**  \n",
    "### (only packages \"string\" and \"re\" are allowed).  \n",
    "\n",
    "1. Count words in a text  \n",
    "2. Sort a list of words in various ways  \n",
    "   • ascii order   \n",
    "   • \"rhyming\" order   \n",
    "3. Extract useful info for a dictionary  \n",
    "4. Compute ngram statistics  \n",
    "5. Make a Concordance  "
   ]
  },
  {
   "cell_type": "markdown",
   "metadata": {},
   "source": [
    "***"
   ]
  },
  {
   "cell_type": "markdown",
   "metadata": {},
   "source": [
    "#### 1. Count words in a text\n",
    "\n",
    "a. Output a list of words in the file along with their frequency counts (ignoring case).   \n",
    "b. Count how many unique words there are (ignoring case).    \n",
    "c. Check how common are all different sequences of vowels (e.g. the sequences \"ieu\" or just \"e\" in \"lieutenant\")?"
   ]
  },
  {
   "cell_type": "code",
   "execution_count": 158,
   "metadata": {
    "scrolled": false
   },
   "outputs": [
    {
     "name": "stdout",
     "output_type": "stream",
     "text": [
      "the 22\n",
      "and 13\n",
      "in 12\n",
      "of 11\n",
      "to 11\n",
      "a 8\n",
      "that 7\n",
      "on 5\n",
      "projects 5\n",
      "from 5\n",
      "kbr 4\n",
      "said 4\n",
      "could 4\n",
      "is 4\n",
      "customers 4\n",
      "or 4\n",
      "are 4\n",
      "he 4\n",
      "much 4\n",
      "cents 4\n",
      "oil 4\n",
      "have 4\n",
      "so 3\n",
      "has 3\n",
      "business 3\n"
     ]
    }
   ],
   "source": [
    "# a)\n",
    "\n",
    "text_lc = text.lower()\n",
    "words_lc = text_lc.split()\n",
    "word_counts = {}\n",
    "\n",
    "for word in words_lc[:500]:\n",
    "    if word in word_counts:\n",
    "        word_counts[word] += 1\n",
    "    else:\n",
    "        word_counts[word] = 1\n",
    "\n",
    "word_counts_list = sorted(word_counts.items(), key=lambda x: x[1], reverse=True)\n",
    "\n",
    "for word, count in word_counts_list[:25]:\n",
    "    print(word, count)"
   ]
  },
  {
   "cell_type": "code",
   "execution_count": 159,
   "metadata": {},
   "outputs": [
    {
     "name": "stdout",
     "output_type": "stream",
     "text": [
      "326\n"
     ]
    }
   ],
   "source": [
    "# b)\n",
    "\n",
    "unique_words = set()\n",
    "\n",
    "for word in words[:500]:\n",
    "    unique_words.add(word)\n",
    "\n",
    "num_unique_words = len(unique_words)\n",
    "\n",
    "print(num_unique_words)"
   ]
  },
  {
   "cell_type": "code",
   "execution_count": 149,
   "metadata": {},
   "outputs": [
    {
     "name": "stdout",
     "output_type": "stream",
     "text": [
      "a 142\n",
      "ai 12\n",
      "au 2\n",
      "e 277\n",
      "ea 12\n",
      "ee 6\n",
      "ei 1\n",
      "eo 1\n",
      "i 145\n",
      "ia 6\n",
      "ie 4\n",
      "io 15\n",
      "o 128\n",
      "oi 6\n",
      "oo 5\n",
      "ou 13\n",
      "u 64\n",
      "ua 3\n",
      "ue 1\n",
      "ui 3\n"
     ]
    }
   ],
   "source": [
    "# c)\n",
    "\n",
    "import re\n",
    "\n",
    "vowel_regex = re.compile('[aeiou]+', re.IGNORECASE)\n",
    "vowel_counts = {}\n",
    "\n",
    "with open(\"../../Data/txt/nyt_200811.txt\", \"r\") as f:\n",
    "    words = f.read().split()[:500]\n",
    "    data = ' '.join(words)\n",
    "\n",
    "for match in vowel_regex.findall(data):\n",
    "    vowel_sequence = match.lower()\n",
    "    if vowel_sequence in vowel_counts:\n",
    "        vowel_counts[vowel_sequence] += 1\n",
    "    else:\n",
    "        vowel_counts[vowel_sequence] = 1\n",
    "\n",
    "for vowel_sequence, count in sorted(vowel_counts.items()):\n",
    "    print(vowel_sequence, count)"
   ]
  },
  {
   "cell_type": "markdown",
   "metadata": {},
   "source": [
    "#### 2. Sorting and reversing lines of text\n",
    "\n",
    "a. Sort each line alphabetically (ignoring case).  \n",
    "b. Sort in numeric ([ascii](https://python-reference.readthedocs.io/en/latest/docs/str/ASCII.html)) order.  \n",
    "c. Alphabetically reverse sort (ignoring case).  \n",
    "d. Sort in reverse numeric ([ascii](https://python-reference.readthedocs.io/en/latest/docs/str/ASCII.html)) order.  "
   ]
  },
  {
   "cell_type": "code",
   "execution_count": 150,
   "metadata": {},
   "outputs": [
    {
     "name": "stdout",
     "output_type": "stream",
     "text": [
      "\n",
      "\"With the economic outlook remaining uncertain, it is possible\n",
      "could be in jeopardy if the headwinds persist into next year.\n",
      "customers may cancel or delay projects that are under way,\" said\n",
      "had\n",
      "KBR said Friday the global economic downturn so far has\n",
      "little effect on its business but warned some projects on its books\n",
      "that\n",
      "Utt, chief executive of the Houston-based engineering and\n",
      "William\n"
     ]
    }
   ],
   "source": [
    "# a)\n",
    "\n",
    "with open(\"../../Data/txt/nyt_200811.txt\", \"r\") as f:\n",
    "    lines = f.readlines()[:10]  # read first 10 lines\n",
    "\n",
    "alphabetically_sorted_lines = sorted(lines, key=lambda x: x.lower()[0])\n",
    "\n",
    "for line in alphabetically_sorted_lines:\n",
    "    print(line.strip())"
   ]
  },
  {
   "cell_type": "code",
   "execution_count": 151,
   "metadata": {},
   "outputs": [
    {
     "name": "stdout",
     "output_type": "stream",
     "text": [
      "\n",
      "\"With the economic outlook remaining uncertain, it is possible\n",
      "KBR said Friday the global economic downturn so far has\n",
      "Utt, chief executive of the Houston-based engineering and\n",
      "William\n",
      "could be in jeopardy if the headwinds persist into next year.\n",
      "customers may cancel or delay projects that are under way,\" said\n",
      "had\n",
      "little effect on its business but warned some projects on its books\n",
      "that\n"
     ]
    }
   ],
   "source": [
    "# b)\n",
    "\n",
    "with open(\"../../Data/txt/nyt_200811.txt\", \"r\") as f:\n",
    "    lines = f.readlines()[:10]\n",
    "        \n",
    "numerically_sorted_lines = sorted(lines, key=lambda line: line[0])\n",
    "\n",
    "for line in numerically_sorted_lines:\n",
    "    print(line.strip())"
   ]
  },
  {
   "cell_type": "code",
   "execution_count": 154,
   "metadata": {},
   "outputs": [
    {
     "name": "stdout",
     "output_type": "stream",
     "text": [
      "William\n",
      "Utt, chief executive of the Houston-based engineering and\n",
      "that\n",
      "little effect on its business but warned some projects on its books\n",
      "KBR said Friday the global economic downturn so far has\n",
      "had\n",
      "could be in jeopardy if the headwinds persist into next year.\n",
      "customers may cancel or delay projects that are under way,\" said\n",
      "\"With the economic outlook remaining uncertain, it is possible\n",
      "\n"
     ]
    }
   ],
   "source": [
    "# c)\n",
    "with open(\"../../Data/txt/nyt_200811.txt\", \"r\") as f:\n",
    "    lines = f.readlines()[:10]\n",
    "\n",
    "alphabetically_sorted_lines_reverse = sorted(lines, key=lambda x: x.lower()[0], reverse=True)\n",
    "\n",
    "for line in alphabetically_sorted_lines_reverse:\n",
    "    print(line.strip())"
   ]
  },
  {
   "cell_type": "code",
   "execution_count": 153,
   "metadata": {},
   "outputs": [
    {
     "name": "stdout",
     "output_type": "stream",
     "text": [
      "that\n",
      "little effect on its business but warned some projects on its books\n",
      "had\n",
      "could be in jeopardy if the headwinds persist into next year.\n",
      "customers may cancel or delay projects that are under way,\" said\n",
      "William\n",
      "Utt, chief executive of the Houston-based engineering and\n",
      "KBR said Friday the global economic downturn so far has\n",
      "\"With the economic outlook remaining uncertain, it is possible\n",
      "\n"
     ]
    }
   ],
   "source": [
    "# d)\n",
    "\n",
    "with open(\"../../Data/txt/nyt_200811.txt\", \"r\") as f:\n",
    "    lines = f.readlines()[:10]\n",
    "\n",
    "numerically_sorted_lines_reverse = sorted(lines, key=lambda line: line[0], reverse=True)\n",
    "\n",
    "for line in numerically_sorted_lines_reverse:\n",
    "    print(line.strip())"
   ]
  },
  {
   "cell_type": "markdown",
   "metadata": {},
   "source": [
    "#### 3. Computing basic statistics\n",
    "\n",
    "a. Find the 50 most common words  \n",
    "b. Find the words in the NYT that end in \"zz\"  \n",
    "c. Count the lines, the words, and the characters  \n",
    "d. How many all uppercase words are there in this NYT file?  \n",
    "e, How many 4-letter words?  \n",
    "f. How many different words are there with no vowels?  \n",
    "g. **tricky:** How many “1 syllable” words are there?  "
   ]
  },
  {
   "cell_type": "code",
   "execution_count": 5,
   "metadata": {},
   "outputs": [
    {
     "name": "stdout",
     "output_type": "stream",
     "text": [
      "the 22\n",
      "and 13\n",
      "in 12\n",
      "of 11\n",
      "to 11\n",
      "a 8\n",
      "that 7\n",
      "on 5\n",
      "projects 5\n",
      "from 5\n",
      "kbr 4\n",
      "said 4\n",
      "could 4\n",
      "is 4\n",
      "customers 4\n",
      "or 4\n",
      "are 4\n",
      "he 4\n",
      "much 4\n",
      "cents 4\n",
      "oil 4\n",
      "have 4\n",
      "so 3\n",
      "has 3\n",
      "business 3\n",
      "but 3\n",
      "be 3\n",
      "into 3\n",
      "which 3\n",
      "industry 3\n",
      "more 3\n",
      "prices 3\n",
      "economic 2\n",
      "its 2\n",
      "if 2\n",
      "next 2\n",
      "it 2\n",
      "delay 2\n",
      "utt, 2\n",
      "engineering 2\n",
      "government 2\n",
      "company's 2\n",
      "kbr's 2\n",
      "third-quarter 2\n",
      "financial 2\n",
      "period 2\n",
      "2007. 2\n",
      "co. 2\n",
      "year, 2\n",
      "analyst 2\n"
     ]
    }
   ],
   "source": [
    "# a)\n",
    "\n",
    "with open(\"../../Data/txt/nyt_200811.txt\", \"r\") as f:\n",
    "    text = f.read().lower()\n",
    "\n",
    "words = text.split()\n",
    "word_freq = {}\n",
    "\n",
    "for word in words[:500]:\n",
    "    if word in word_freq:\n",
    "        word_freq[word] += 1\n",
    "    else:\n",
    "        word_freq[word] = 1\n",
    "\n",
    "most_common = sorted(word_freq.items(), key=lambda x: x[1], reverse=True)[:50]\n",
    "\n",
    "for word, count in most_common:\n",
    "    print(word, count)"
   ]
  },
  {
   "cell_type": "code",
   "execution_count": 6,
   "metadata": {},
   "outputs": [
    {
     "name": "stdout",
     "output_type": "stream",
     "text": [
      "{'buzz', 'pizazz', 'jazz'}\n"
     ]
    }
   ],
   "source": [
    "# b)\n",
    "\n",
    "text_lc = text.lower()\n",
    "words = text_lc.split()\n",
    "\n",
    "unique_words_ending_in_zz = set()\n",
    "\n",
    "for word in words:\n",
    "    if word.lower().endswith(\"zz\"):\n",
    "        unique_words_ending_in_zz.add(word)\n",
    "\n",
    "print(unique_words_ending_in_zz)\n"
   ]
  },
  {
   "cell_type": "code",
   "execution_count": 35,
   "metadata": {
    "scrolled": true
   },
   "outputs": [
    {
     "name": "stdout",
     "output_type": "stream",
     "text": [
      "Lines: 70335\n",
      "Words: 509851\n",
      "Characters: 3052299\n"
     ]
    }
   ],
   "source": [
    "# c)\n",
    "\n",
    "number_lines = text.count(\"\\n\") + 1\n",
    "number_words = len(text.split())\n",
    "number_characters = len(text)\n",
    "\n",
    "print(f\"Lines: {number_lines}\")\n",
    "print(f\"Words: {number_words}\")\n",
    "print(f\"Characters: {number_characters}\")"
   ]
  },
  {
   "cell_type": "code",
   "execution_count": 31,
   "metadata": {},
   "outputs": [
    {
     "name": "stdout",
     "output_type": "stream",
     "text": [
      "6952\n"
     ]
    }
   ],
   "source": [
    "# d)\n",
    "\n",
    "uppercase_counter = 0\n",
    "\n",
    "with open(\"../../Data/txt/nyt_200811.txt\", \"r\") as f:\n",
    "    for line in f:\n",
    "        uppercase_words = line.strip().split()\n",
    "        for word in uppercase_words:\n",
    "            if word.isupper():\n",
    "                uppercase_counter += 1\n",
    "\n",
    "print(uppercase_counter)"
   ]
  },
  {
   "cell_type": "code",
   "execution_count": 30,
   "metadata": {},
   "outputs": [
    {
     "name": "stdout",
     "output_type": "stream",
     "text": [
      "79536\n"
     ]
    }
   ],
   "source": [
    "# e)\n",
    "\n",
    "text_lc = text.lower()\n",
    "words = text_lc.split()\n",
    "four_letter_count = 0\n",
    "\n",
    "with open(\"../../Data/txt/nyt_200811.txt\", \"r\") as f:\n",
    "        for word in words:\n",
    "            if len(word) == 4:\n",
    "                four_letter_count += 1\n",
    "\n",
    "print(four_letter_count)"
   ]
  },
  {
   "cell_type": "code",
   "execution_count": 36,
   "metadata": {},
   "outputs": [
    {
     "name": "stdout",
     "output_type": "stream",
     "text": [
      "3262\n"
     ]
    }
   ],
   "source": [
    "# f)\n",
    "\n",
    "no_vowels_set = set()\n",
    "\n",
    "with open(\"../../Data/txt/nyt_200811.txt\", \"r\") as f:\n",
    "    for line in f:\n",
    "        words = line.strip().split()\n",
    "        for word in words:\n",
    "            if all(char not in 'aeiouAEIOU' for char in word):\n",
    "                no_vowels_set.add(word)\n",
    "\n",
    "no_vowels_count = len(no_vowels_set)\n",
    "\n",
    "print(no_vowels_count)"
   ]
  },
  {
   "cell_type": "code",
   "execution_count": 39,
   "metadata": {},
   "outputs": [],
   "source": [
    "# g)"
   ]
  },
  {
   "cell_type": "markdown",
   "metadata": {},
   "source": [
    "#### 4. Compute ngrams  \n",
    "\n",
    "a. Find the 10 most common bigrams  \n",
    "b. Find the 10 most common trigrams  "
   ]
  },
  {
   "cell_type": "code",
   "execution_count": 168,
   "metadata": {},
   "outputs": [
    {
     "name": "stdout",
     "output_type": "stream",
     "text": [
      "[(('of', 'the'), 3091), (('in', 'the'), 2499), (('to', 'the'), 1171), (('on', 'the'), 1082), (('for', 'the'), 882), (('and', 'the'), 803), (('in', 'a'), 751), (('to', 'be'), 709), (('at', 'the'), 675), (('with', 'the'), 561)]\n"
     ]
    }
   ],
   "source": [
    "# a)\n",
    "\n",
    "def find_bigrams(input_list):\n",
    "    return zip(input_list, input_list[1:])\n",
    "\n",
    "with open(\"../../Data/txt/nyt_200811.txt\", \"r\") as f:\n",
    "    content = f.read()\n",
    "    words = content.split()\n",
    "    bigrams = find_bigrams(words)\n",
    "    bigram_counts = Counter(bigrams)\n",
    "    top_10_bigrams = bigram_counts.most_common(10)\n",
    "    print(top_10_bigrams)"
   ]
  },
  {
   "cell_type": "markdown",
   "metadata": {},
   "source": [
    "#### 5. Make a Concordance\n",
    "\n",
    "a. Create a concordance display for an arbitrary word. See the example below  \n",
    "\n",
    "![](../../Data/figs/Sample-concordance-lines-of-actually.png)"
   ]
  },
  {
   "cell_type": "code",
   "execution_count": 57,
   "metadata": {},
   "outputs": [
    {
     "name": "stdout",
     "output_type": "stream",
     "text": [
      "Line 1: KBR said Friday the global economic downturn so far has\n",
      "Line 6: \"With the economic outlook remaining uncertain, it is\n",
      "Line 148: KBR said Friday the global economic downturn so far has\n",
      "Line 153: \"With the economic outlook remaining uncertain, it is\n",
      "Line 867: the new world economic disorder has been whether sovereign\n",
      "Line 906: Britain, who has written an economic history of Abu\n",
      "Line 1367: have more economic independence. From her very first\n",
      "Line 1398: How do you deal with economic uncertainty in emerging\n",
      "Line 2232: spur economic growth. \"Any use of these\n",
      "Line 3587: economic issues in the Southland.\n",
      "Line 3667: economic reasons - realizing that maybe\n",
      "Line 5029: economic issues in the Southland.\n",
      "Line 5109: economic reasons -- realizing that maybe\n",
      "Line 5301: through the weighty economic theories concerning this latest\n",
      "Line 5378: The world is in economic turmoil -- much of it\n",
      "Line 5818: more swayed by economic and bread-and-butter issues,\" said Amandi.\n",
      "Line 6452: No one disputes that Iceland's economic troubles are\n",
      "Line 6473: In a volatile economic climate, in which appearance matters\n",
      "Line 6619: describes himself as an economic conservative and said he had\n",
      "Line 6927: decades since then, despite periodic economic\n",
      "Line 7197: Political and Economic Studies in Washington, said the\n",
      "Line 7362: economic turmoil. Far from being isolated\n",
      "Line 7376: could freeze Germany's economic system.\n",
      "Line 8949: takes on both economic and foreign affairs. What we\n",
      "Line 9109: As serious as Iceland's economic situation already was,\n",
      "Line 9507: moderate -- and the mounting economic crisis.\n",
      "Line 9777: energetically on an economic theme, telling audiences that\n",
      "Line 9786: and voters, the shift toward economic\n",
      "Line 9914: the only economic bright spot (of sorts) in\n",
      "Line 10042: economic turmoil. Far from being isolated\n",
      "Line 10056: could freeze Germany's economic system.\n",
      "Line 10177: field, but also in the economic and financial fields and especially\n",
      "Line 10195: provides to Iraq in security, economic and\n",
      "Line 10250: field, but also in the economic and financial fields and especially\n",
      "Line 10746: decades since then, despite periodic economic\n",
      "Line 10926: describes himself as an economic conservative and said he had\n",
      "Line 11566: also that the economic and other crises don't overwhelm\n",
      "Line 12113: economic incentive, said Ryan Lamppa, a\n",
      "Line 12443: high-end collectibles may withstand the economic\n",
      "Line 12739: is best able to handle economic issues.\n",
      "Line 12986: the economic downturn. The attendance at Atlanta\n",
      "Line 13251: is best able to handle economic issues.\n",
      "Line 13766: After eight years of economic policies custom-made for the hedge\n",
      "Line 13767: is great to hear the economic interests of the middle\n",
      "Line 15238: conference call to extol McCain's economic plans, Sen. Mel\n",
      "Line 15765: agility. But facing the worst economic crisis since\n",
      "Line 16248: get a two-fer: George Bush's economic policy and Dick Cheney's\n",
      "Line 16376: Although McCain's proposed economic plan offers greater tax\n",
      "Line 16695: Pressing economic demands will land on the\n",
      "Line 16705: \"McCain could not govern on economic or other issues from the\n",
      "Line 16730: and yet can't do big economic things because\n",
      "Line 17206: appointments were related to economic policy, said Martha Joynt\n",
      "Line 17285: been through three years of economic\n",
      "Line 17750: phenomenon and the economic crisis that sent McCain's campaign\n",
      "Line 18705: most voters, economic concerns fill that slot for\n",
      "Line 18791: Congress reconvenes to craft another economic stimulus package. In\n",
      "Line 18798: treasury -- (and) appointing an economic\n",
      "Line 18917: are deeply concerned about the economic crisis. But what's\n",
      "Line 18951: the issue to economic troubles and national security concerns.\n",
      "Line 18978: \"Cheap labor is economic cocaine for the business community,\"\n",
      "Line 18990: the hardest hit by the economic\n",
      "Line 20321: economic crisis, measuring the seconds required\n",
      "Line 20900: and economic experts simply \"did not forecast\"\n",
      "Line 20907: economic disaster. It's just that the\n",
      "Line 20933: home prices and economic confidence, and tended to come\n",
      "Line 20956: economic advisory panel of the Federal\n",
      "Line 21002: economic events. Behavioral economists are still\n",
      "Line 21043: consumers are weighed down with economic worries,\n",
      "Line 21409: time. During periods of economic growth, such inefficiencies are\n",
      "Line 21420: economic crisis. That's the reason I\n",
      "Line 21493: was shriveling the economic outlook.\n",
      "Line 21512: The current economic downturn comes as no surprise\n",
      "Line 21517: \"Creativity doesn't care about economic downturns,\" Lieberman\n",
      "Line 21519: economic downturn, both Apple and Microsoft\n",
      "Line 22822: election campaign now dominated by economic\n",
      "Line 22927: economic development officials scrambled to attract\n",
      "Line 25019: first election during a deep economic crisis since\n",
      "Line 25025: during economic slumps and only once, in\n",
      "Line 25031: severe economic downturns that affect millions of\n",
      "Line 25060: unpopular war, a severe economic crisis and it's unusual for\n",
      "Line 26017: site. Other factors included appealing economic terms, access\n",
      "Line 28569: economic\n",
      "Line 28574: approach that chokes off economic growth.\n",
      "Line 28597: noted that Americans want more economic\n",
      "Line 28621: the economic uncertainty will lead to a\n",
      "Line 28821: middle-class Republicans question their party's economic\n",
      "Line 29165: economic\n",
      "Line 29247: foreign rivals and the economic downturn now threatening the\n",
      "Line 29254: economic engine for the country is\n",
      "Line 30076: as tough economic times make it difficult to\n",
      "Line 30274: as well as the current economic\n",
      "Line 30293: four-decades-old economic embargo. McCain says he would\n",
      "Line 31014: the brush fires of the economic crisis.\n",
      "Line 31045: an economic stimulus plan for Germany that\n",
      "Line 31068: the economic crisis was raising the risk\n",
      "Line 31072: the government's need to promote economic growth was\n",
      "Line 31667: get blamed for the world's economic\n",
      "Line 31957: ECONOMIC SIGNALS\n",
      "Line 32589: have contributed to the nation's economic\n",
      "Line 32635: East Lansing-based Anderson Economic Group. Senior consultant Ilhan\n",
      "Line 32766: economic ruin.\n",
      "Line 33279: the evidence,\" arguing that Obama's economic proposals were far\n",
      "Line 34060: Trying to capitalize on economic uncertainty, House Democrats\n",
      "Line 34084: emphasizing Republican culpability for the economic decline, a\n",
      "Line 34119: president and an economic collapse.\n",
      "Line 35151: As the economic downturn forces more workers like\n",
      "Line 36690: would continue his foreign and economic policies. He\n",
      "Line 37376: would continue his foreign and economic policies. He\n",
      "Line 37633: on Nov. 14. Given the economic downturn, the election is ending\n",
      "Line 37664: the brush fires of the economic crisis.\n",
      "Line 37698: an economic stimulus plan for Germany that\n",
      "Line 37722: the economic crisis was raising the risk\n",
      "Line 37726: the government's need to promote economic growth was\n",
      "Line 39448: deftness, Republican missteps and the economic crisis.\n",
      "Line 39500: President Bush's unpopularity in threatening economic times\n",
      "Line 40508: economic powers need to air their\n",
      "Line 40708: Given the global economic meltdown and other crises, it\n",
      "Line 42209: But they no longer make economic sense flying\n",
      "Line 44382: reaching agreements on transportation and economic deals.\n",
      "Line 44408: economic performance has been lackluster, and\n",
      "Line 44438: discuss economic cooperation as a way to\n",
      "Line 44658: tightened credit markets and an economic slowdown\n",
      "Line 44662: a year ago amid \"an economic gauntlet, the likes of\n",
      "Line 44739: dislocation, but also from the economic downturn,\" Mamoun Tazi, a\n",
      "Line 44836: Weak economic data in Australia were also\n",
      "Line 45212: and toward the stability of economic\n",
      "Line 45215: number of households falling into economic jeopardy\n",
      "Line 45812: problems, particularly during tough economic times when the\n",
      "Line 47417: The reality of the economic game is that enormous changes\n",
      "Line 47418: happening. When the senators plotted economic strategy, no one\n",
      "Line 48536: found that during recessions or economic\n",
      "Line 48544: to help stem the local economic\n",
      "Line 49666: and an economic slowdown kept consumers away from\n",
      "Line 53046: juggernaut of urbanization shifts the economic and demographic\n",
      "Line 53146: welcomed the new economic connections. \"It can only help\n",
      "Line 53454: use part of their $600 economic stimulus check to\n",
      "Line 54112: and an economic slowdown kept consumers away from\n",
      "Line 54426: been hit by a sharp economic downturn. And the troubles\n",
      "Line 54432: economic times the chill is shocking.\n",
      "Line 54451: Madrid, the government announced an economic stimulus program\n",
      "Line 54453: summer, the nation's first quarterly economic\n",
      "Line 54517: something of an economic miracle for this region, which\n",
      "Line 54561: But Alberto Larraz, Aragon's economic minister, said he expected\n",
      "Line 54907: higher fuel costs and the economic\n",
      "Line 54926: economic slowdown has lowered demand for\n",
      "Line 55161: \"continue to shoulder substantial economic burdens.\"\n",
      "Line 55185: commensurate with its economic importance, its leadership cannot be\n",
      "Line 55805: The economic crisis, for all its pain,\n",
      "Line 55811: about the economic crisis on Friday night, she\n",
      "Line 55843: American and a woman, an economic\n",
      "Line 56696: interaction -- the intercourse of economic life -- had nearly\n",
      "Line 56733: any kind of social and economic interchange is\n",
      "Line 56737: the brink of the modern economic world the issues become even\n",
      "Line 56882: Baumohl, managing director of the Economic Outlook Group, wrote in\n",
      "Line 59814: economic era, a political era and\n",
      "Line 60077: markets suffering because of serious economic\n",
      "Line 60087: The nation's economic problems did not disappear by\n",
      "Line 60106: still be looking at real economic problems\n",
      "Line 60128: economic ills, people will rally behind\n",
      "Line 60192: departed from Washington under ideal economic circumstances.\n",
      "Line 60219: are bracing for a worsening economic downturn.\n",
      "Line 60229: prepared for a fairly dramatic economic slowdown,\" said\n",
      "Line 60255: fallout from an economic crisis originating in the housing\n",
      "Line 60393: Weak economic data in Australia were also\n",
      "Line 61305: during one of the worst economic conflagrations in a\n",
      "Line 61352: economic policy during perilous financial times.\n",
      "Line 61354: a renewed battle over which economic\n",
      "Line 61513: Weak economic data in Australia were also\n",
      "Line 61536: to keep up on global economic affairs. \"After the safety\n",
      "Line 61710: economic turmoil.\n",
      "Line 61773: economic conditions into their new-car orders.\n",
      "Line 63754: their budget even with the economic\n",
      "Line 64974: economic issues with his Taiwanese counterpart,\n",
      "Line 65002: economic performance has been lackluster, and\n",
      "Line 65028: discuss economic cooperation as a way to\n",
      "Line 65688: in the middle of an economic downturn.\n",
      "Line 65693: The economic downturn is making life tougher\n",
      "Line 65727: deteriorating economic outlook and the banks' more\n",
      "Line 65769: economic competence between Britain's two major\n",
      "Line 65794: cope with \"the economic downturn made in Britain and\n",
      "Line 67315: to cope with a growing economic\n",
      "Line 67438: as both struggle to overcome economic slowdowns.\n",
      "Line 67453: Taiwan's economic growth has lagged behind China's\n",
      "Line 67516: channels for cross-straits economic exchanges,\" Chen said on\n",
      "Line 68149: economic meltdown, the course of the\n",
      "Line 68190: fiscal crisis created by the economic meltdown, then, the\n",
      "Line 69164: economic crisis. By Nazila Fathi.\n",
      "Line 69171: ECON-RISK (Undated) -- Today's economic turmoil, it seems, is an\n"
     ]
    }
   ],
   "source": [
    "# a)\n",
    "\n",
    "def concordance_display(file_path, word):\n",
    "    with open(\"../../Data/txt/nyt_200811.txt\", \"r\") as f:\n",
    "        lines = f.readlines()\n",
    "        for i, line in enumerate(lines):\n",
    "            words = line.strip().split()\n",
    "            for j, w in enumerate(words):\n",
    "                if w.lower() == word.lower():\n",
    "                    start = max(j-5, 0)\n",
    "                    end = min(j+6, len(words))\n",
    "                    context = ' '.join(words[start:end])\n",
    "                    print(f\"Line {i+1}: {context}\")\n",
    "\n",
    "concordance_display('example.txt', 'economic')"
   ]
  },
  {
   "cell_type": "markdown",
   "metadata": {},
   "source": [
    "***"
   ]
  },
  {
   "cell_type": "markdown",
   "metadata": {},
   "source": [
    "##### Extra Credit – Secret Message\n",
    "+ The answers to the extra credit exercises will reveal a secret message.  \n",
    "+ We will be working with the following text file for these exercises:  \n",
    "[Link to Text](https://web.stanford.edu/class/cs124/lec/secret_ec.txt)  \n",
    "(No starter code in the Extra Credit)  "
   ]
  },
  {
   "cell_type": "markdown",
   "metadata": {},
   "source": [
    "##### Extra Credit Exercise 1\n",
    "• Find the 2 most common words in secret_ec.txt containing the letter e.  \n",
    "• Your answer will correspond to the first two words of the secret message.  "
   ]
  },
  {
   "cell_type": "code",
   "execution_count": 93,
   "metadata": {},
   "outputs": [
    {
     "name": "stdout",
     "output_type": "stream",
     "text": [
      "the\n",
      "best\n"
     ]
    }
   ],
   "source": [
    "# a)\n",
    "\n",
    "with open(\"../../Data/txt/secret_ec.txt\", \"r\") as secret:\n",
    "    secret_text = secret.read()\n",
    "    \n",
    "e_words = re.findall(r\"\\b\\w*e\\w*\\b\", secret_text)\n",
    "\n",
    "word_freq = Counter(e_words)\n",
    "\n",
    "most_common = word_freq.most_common(2)\n",
    "\n",
    "for word, count in most_common:\n",
    "    print(f\"{word}\")"
   ]
  },
  {
   "cell_type": "markdown",
   "metadata": {},
   "source": [
    "##### Extra Credit Exercise 2\n",
    "• Find the 2 most common bigrams in secret_ec.txt where the second word in the bigram ends with a consonant.  \n",
    "• Your answer will correspond to the next four words of the secret message.  "
   ]
  },
  {
   "cell_type": "code",
   "execution_count": 167,
   "metadata": {},
   "outputs": [
    {
     "name": "stdout",
     "output_type": "stream",
     "text": [
      "[(('part', 'about'), 6), (('unix', 'is'), 4)]\n"
     ]
    }
   ],
   "source": [
    "# b)\n",
    "\n",
    "def find_new_bigrams(words):\n",
    "    bigrams = []\n",
    "    for i in range(len(words)-1):\n",
    "        if words[i+1][-1] in string.ascii_lowercase.translate(str.maketrans('', '', 'aeiou')):\n",
    "            bigrams.append((words[i], words[i+1]))\n",
    "    return bigrams\n",
    "\n",
    "with open(\"../../Data/txt/secret_ec.txt\", \"r\") as secret:\n",
    "    words = secret.read().lower().split()\n",
    "\n",
    "bigram_counts = Counter(find_new_bigrams(words))\n",
    "common_bigrams = bigram_counts.most_common(2)\n",
    "print(common_bigrams)"
   ]
  },
  {
   "cell_type": "markdown",
   "metadata": {},
   "source": [
    "##### Extra Credit Exercise 3\n",
    "• Find all 5-letter-long words that only appear once in secret_ec.txt.   \n",
    "• Concatenate your result. This will be the final word of the secret message.  \n",
    "\n",
    "What is the secret message?  "
   ]
  },
  {
   "cell_type": "code",
   "execution_count": 78,
   "metadata": {},
   "outputs": [
    {
     "name": "stdout",
     "output_type": "stream",
     "text": [
      "['every', 'thing']\n"
     ]
    }
   ],
   "source": [
    "with open(\"../../Data/txt/secret_ec.txt\", \"r\") as secret:\n",
    "    words = Counter(secret.read().split())\n",
    "    five_letter_words = [word for word, count in words.items() if len(word) == 5 and count == 1]\n",
    "    print(five_letter_words)"
   ]
  },
  {
   "cell_type": "code",
   "execution_count": 104,
   "metadata": {},
   "outputs": [
    {
     "name": "stdout",
     "output_type": "stream",
     "text": [
      "[('the', 22), ('best', 11)]\n",
      "[(('part', 'about'), 6), (('unix', 'is'), 4)]\n",
      "['every', 'thing']\n"
     ]
    }
   ],
   "source": [
    "    print(most_common_words)\n",
    "    print(most_common_bigrams)\n",
    "    print(five_letter_words)"
   ]
  },
  {
   "cell_type": "code",
   "execution_count": 164,
   "metadata": {},
   "outputs": [
    {
     "name": "stdout",
     "output_type": "stream",
     "text": [
      "This is the secret message: \"The best part about unix is everything\".\n"
     ]
    }
   ],
   "source": [
    "print('This is the secret message: \"The best part about unix is everything\".')"
   ]
  }
 ],
 "metadata": {
  "kernelspec": {
   "display_name": "Python 3 (ipykernel)",
   "language": "python",
   "name": "python3"
  },
  "language_info": {
   "codemirror_mode": {
    "name": "ipython",
    "version": 3
   },
   "file_extension": ".py",
   "mimetype": "text/x-python",
   "name": "python",
   "nbconvert_exporter": "python",
   "pygments_lexer": "ipython3",
   "version": "3.9.13"
  }
 },
 "nbformat": 4,
 "nbformat_minor": 4
}
